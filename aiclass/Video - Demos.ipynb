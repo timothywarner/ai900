{
 "cells": [
  {
   "cell_type": "markdown",
   "metadata": {},
   "source": [
    "## Video Demos\n",
    "\n",
    "### Install av library"
   ]
  },
  {
   "cell_type": "code",
   "execution_count": null,
   "metadata": {},
   "outputs": [],
   "source": [
    "!conda install av -c conda-forge -y"
   ]
  },
  {
   "cell_type": "markdown",
   "metadata": {},
   "source": [
    "### Download and play video"
   ]
  },
  {
   "cell_type": "code",
   "execution_count": null,
   "metadata": {},
   "outputs": [],
   "source": [
    "!curl https://raw.githubusercontent.com/MicrosoftLearning/AI-Introduction/master/files/Intro.mp4 -o video.mp4"
   ]
  },
  {
   "cell_type": "code",
   "execution_count": null,
   "metadata": {},
   "outputs": [],
   "source": [
    "%%HTML\n",
    "<video width=\"320\" height=\"240\" controls>\n",
    "  <source src=\"video.mp4\" type=\"video/mp4\">\n",
    "</video>"
   ]
  },
  {
   "cell_type": "markdown",
   "metadata": {},
   "source": [
    "### Count frames and show the 25th one"
   ]
  },
  {
   "cell_type": "code",
   "execution_count": null,
   "metadata": {},
   "outputs": [],
   "source": [
    "import av\n",
    "container = av.open('video.mp4')\n",
    "\n",
    "%matplotlib inline\n",
    "from matplotlib.pyplot import imshow\n",
    "from PIL import Image, ImageDraw\n",
    "\n",
    "for frame in container.decode(video=0):\n",
    "    if (frame.index == 25):\n",
    "        img = frame.to_image()\n",
    "        imshow(img)\n",
    "frameCount = frame.index - 1\n",
    "print(str(frameCount) + \" frames\")"
   ]
  },
  {
   "cell_type": "markdown",
   "metadata": {},
   "source": [
    "## Using the Video Indexer API\n",
    "\n",
    "### Create a Video Indexer account\n",
    "https://www.videoindexer.ai/ "
   ]
  },
  {
   "cell_type": "code",
   "execution_count": null,
   "metadata": {},
   "outputs": [],
   "source": [
    "viLocation = 'trial'\n",
    "viAccountID = 'YOUR_ACCOUNT_ID'"
   ]
  },
  {
   "cell_type": "markdown",
   "metadata": {},
   "source": [
    "### Create a Video Indexer API Subscription\n",
    "https://api-portal.videoindexer.ai/"
   ]
  },
  {
   "cell_type": "code",
   "execution_count": null,
   "metadata": {},
   "outputs": [],
   "source": [
    "viKey = 'YOUR_PRIMARY_KEY'"
   ]
  },
  {
   "cell_type": "markdown",
   "metadata": {},
   "source": [
    "### Get Account-level Access Token"
   ]
  },
  {
   "cell_type": "code",
   "execution_count": null,
   "metadata": {},
   "outputs": [],
   "source": [
    "import http.client, urllib.request, urllib.parse, urllib.error, base64\n",
    "\n",
    "headers = {\n",
    "    # Request headers\n",
    "    'Ocp-Apim-Subscription-Key': viKey,\n",
    "}\n",
    "\n",
    "params = urllib.parse.urlencode({\n",
    "    # Request parameters\n",
    "    'allowEdit': True,\n",
    "})\n",
    "\n",
    "try:\n",
    "    conn = http.client.HTTPSConnection('api.videoindexer.ai')\n",
    "    conn.request(\"GET\", \"/auth/%s/Accounts/%s/AccessToken?%s\" % (viLocation, viAccountID, params), \"{body}\", headers)\n",
    "    response = conn.getresponse()\n",
    "    data = response.read()\n",
    "    accessToken = data.decode(\"UTF-8\").replace('\"', '')\n",
    "    print(\"accessToken: \" + accessToken)\n",
    "    conn.close()\n",
    "except Exception as e:\n",
    "    print(\"[Errno {0}] {1}\".format(e.errno, e.strerror))\n"
   ]
  },
  {
   "cell_type": "markdown",
   "metadata": {},
   "source": [
    "### Upload a Video for Processing\n"
   ]
  },
  {
   "cell_type": "code",
   "execution_count": null,
   "metadata": {},
   "outputs": [],
   "source": [
    "import http.client, urllib.request, urllib.parse, urllib.error, base64, json\n",
    "\n",
    "# We'll upload this video from GitHub to the Video Indexer\n",
    "video_url='https://github.com/MicrosoftLearning/AI-Introduction/raw/master/files/vid.mp4'\n",
    "\n",
    "headers = {\n",
    "    # Request headers\n",
    "    'Content-Type': 'multipart/form-data',\n",
    "}\n",
    "\n",
    "params = urllib.parse.urlencode({\n",
    "    # Request parameters\n",
    "    'accessToken' : accessToken,\n",
    "    'name': 'vid',\n",
    "    'privacy': 'Private',\n",
    "    'videoUrl': video_url,\n",
    "    'language': 'en-US',\n",
    "})\n",
    "\n",
    "try:\n",
    "    conn = http.client.HTTPSConnection('api.videoindexer.ai')\n",
    "    conn.request(\"POST\", \"/%s/Accounts/%s/Videos?%s\" % (viLocation, viAccountID, params), \"{body}\", headers)\n",
    "    response = conn.getresponse()\n",
    "    data = response.read()\n",
    "    parsed = json.loads(data.decode(\"UTF-8\"))\n",
    "    print(parsed)\n",
    "    conn.close()\n",
    "except Exception as e:\n",
    "    print(e)"
   ]
  },
  {
   "cell_type": "markdown",
   "metadata": {},
   "source": [
    "### Get Video ID"
   ]
  },
  {
   "cell_type": "code",
   "execution_count": null,
   "metadata": {},
   "outputs": [],
   "source": [
    "videoID = parsed['id']\n",
    "print(\"videoId: \" + videoID)"
   ]
  },
  {
   "cell_type": "markdown",
   "metadata": {},
   "source": [
    "### Check Processing Status"
   ]
  },
  {
   "cell_type": "code",
   "execution_count": null,
   "metadata": {},
   "outputs": [],
   "source": [
    "import http.client, urllib.request, urllib.parse, urllib.error, base64\n",
    "\n",
    "headers = {\n",
    "}\n",
    "\n",
    "params = urllib.parse.urlencode({\n",
    "    # Request parameters\n",
    "    'accessToken': accessToken,\n",
    "    'language': 'en-US',\n",
    "})\n",
    "\n",
    "try:\n",
    "    conn = http.client.HTTPSConnection('api.videoindexer.ai')\n",
    "    conn.request(\"GET\", \"/%s/Accounts/%s/Videos/%s/Index?%s\" % (viLocation, viAccountID, videoID, params), \"{body}\", headers)\n",
    "    response = conn.getresponse()\n",
    "    data = response.read()\n",
    "    parsed = json.loads(data.decode(\"UTF-8\"))\n",
    "    conn.close()\n",
    "except Exception as e:\n",
    "    print(e)\n",
    "\n",
    "print(\"State : \" + parsed['state'])"
   ]
  },
  {
   "cell_type": "markdown",
   "metadata": {},
   "source": [
    "### Get Video-level Access Token\n"
   ]
  },
  {
   "cell_type": "code",
   "execution_count": null,
   "metadata": {},
   "outputs": [],
   "source": [
    "import http.client, urllib.request, urllib.parse, urllib.error, base64\n",
    "\n",
    "headers = {\n",
    "    # Request headers\n",
    "    'Ocp-Apim-Subscription-Key': viKey,\n",
    "}\n",
    "\n",
    "params = urllib.parse.urlencode({\n",
    "    # Request parameters\n",
    "    'allowEdit': True,\n",
    "})\n",
    "\n",
    "try:\n",
    "    conn = http.client.HTTPSConnection('api.videoindexer.ai')\n",
    "    conn.request(\"GET\", \"/auth/%s/Accounts/%s/Videos/%s/AccessToken?%s\" % (viLocation, viAccountID, videoID, params), \"{body}\", headers)\n",
    "    response = conn.getresponse()\n",
    "    data = response.read()\n",
    "    videoAccessToken = data.decode(\"UTF-8\").replace('\"', '')\n",
    "    print(\"videoAccessToken: \" + videoAccessToken)\n",
    "    conn.close()\n",
    "except Exception as e:\n",
    "    print(e)"
   ]
  },
  {
   "cell_type": "markdown",
   "metadata": {},
   "source": [
    "### View the video"
   ]
  },
  {
   "cell_type": "code",
   "execution_count": null,
   "metadata": {},
   "outputs": [],
   "source": [
    "from IPython.core.display import HTML\n",
    "\n",
    "playerUrl = \"https://www.videoindexer.ai/embed/player/{0}/{1}/?accessToken={2}\".format(viAccountID,videoID,videoAccessToken)\n",
    "\n",
    "HTML('<iframe width=900 height=600 src=\"%s\"/>' % playerUrl )"
   ]
  },
  {
   "cell_type": "markdown",
   "metadata": {},
   "source": [
    "### View the Video Breakdown"
   ]
  },
  {
   "cell_type": "code",
   "execution_count": null,
   "metadata": {
    "scrolled": true
   },
   "outputs": [],
   "source": [
    "import http.client, urllib.request, urllib.parse, urllib.error, base64\n",
    "\n",
    "headers = {\n",
    "}\n",
    "\n",
    "params = urllib.parse.urlencode({\n",
    "    # Request parameters\n",
    "    'accessToken': videoAccessToken,\n",
    "    'language': 'English',\n",
    "})\n",
    "\n",
    "try:\n",
    "    conn = http.client.HTTPSConnection('api.videoindexer.ai')\n",
    "    conn.request(\"GET\", \"/%s/Accounts/%s/Videos/%s/Index?%s\" % (viLocation, viAccountID, videoID, params), \"{body}\", headers)\n",
    "    response = conn.getresponse()\n",
    "    data = response.read()\n",
    "    strData = data.decode(\"UTF-8\")\n",
    "    jData = json.loads(strData)\n",
    "    print (json.dumps(jData, sort_keys=True, indent=2))\n",
    "    conn.close()\n",
    "except Exception as e:\n",
    "    print(e)\n"
   ]
  },
  {
   "cell_type": "markdown",
   "metadata": {},
   "source": [
    "### Get Details of Faces Identified in the Video"
   ]
  },
  {
   "cell_type": "code",
   "execution_count": null,
   "metadata": {
    "scrolled": false
   },
   "outputs": [],
   "source": [
    "print(json.dumps(jData[\"summarizedInsights\"][\"faces\"], sort_keys=True, indent=2))"
   ]
  },
  {
   "cell_type": "markdown",
   "metadata": {},
   "source": [
    "### View a Face Thumbnail"
   ]
  },
  {
   "cell_type": "code",
   "execution_count": null,
   "metadata": {},
   "outputs": [],
   "source": [
    "import http.client, urllib.request, urllib.parse, urllib.error, base64\n",
    "from PIL import Image\n",
    "from io import BytesIO\n",
    "from matplotlib.pyplot import imshow\n",
    "%matplotlib inline\n",
    "\n",
    "thumbnailId = jData[\"summarizedInsights\"][\"faces\"][0][\"thumbnailId\"]\n",
    "\n",
    "headers = {\n",
    "}\n",
    "\n",
    "params = urllib.parse.urlencode({\n",
    "    # Request parameters\n",
    "    'accessToken': videoAccessToken,\n",
    "})\n",
    "\n",
    "try:\n",
    "    conn = http.client.HTTPSConnection('api.videoindexer.ai')\n",
    "    conn.request(\"GET\", \"/%s/Accounts/%s/Videos/%s/Thumbnails/%s?%s\" % (viLocation, viAccountID, videoID, thumbnailId, params), \"{body}\", headers)\n",
    "    response = conn.getresponse()\n",
    "    data = response.read()\n",
    "    img = Image.open(BytesIO(data))\n",
    "    imshow(img)\n",
    "    conn.close()\n",
    "except Exception as e:\n",
    "    print(e)"
   ]
  },
  {
   "cell_type": "markdown",
   "metadata": {},
   "source": [
    "### View (and Edit) People Insights\n"
   ]
  },
  {
   "cell_type": "code",
   "execution_count": null,
   "metadata": {},
   "outputs": [],
   "source": [
    "from IPython.core.display import HTML\n",
    "\n",
    "insightsUrl = \"https://www.videoindexer.ai/embed/insights/{0}/{1}/?accessToken={2}\".format(viAccountID,videoID,videoAccessToken)\n",
    "\n",
    "HTML('<iframe width=900 height=600 src=\"%s\"/>' % insightsUrl )"
   ]
  },
  {
   "cell_type": "markdown",
   "metadata": {},
   "source": [
    "### Reload Breakdown and Check Updated Face Details\n"
   ]
  },
  {
   "cell_type": "code",
   "execution_count": null,
   "metadata": {},
   "outputs": [],
   "source": [
    "import http.client, urllib.request, urllib.parse, urllib.error, base64\n",
    "\n",
    "headers = {\n",
    "}\n",
    "\n",
    "params = urllib.parse.urlencode({\n",
    "    # Request parameters\n",
    "    'accessToken': videoAccessToken,\n",
    "    'language': 'English',\n",
    "})\n",
    "\n",
    "try:\n",
    "    conn = http.client.HTTPSConnection('api.videoindexer.ai')\n",
    "    conn.request(\"GET\", \"/%s/Accounts/%s/Videos/%s/Index?%s\" % (viLocation, viAccountID, videoID, params), \"{body}\", headers)\n",
    "    response = conn.getresponse()\n",
    "    data = response.read()\n",
    "    strData = data.decode(\"UTF-8\")\n",
    "    jData = json.loads(strData)\n",
    "    print(json.dumps(jData[\"summarizedInsights\"][\"faces\"], sort_keys=True, indent=2))\n",
    "    conn.close()\n",
    "except Exception as e:\n",
    "    print(e)\n"
   ]
  },
  {
   "cell_type": "markdown",
   "metadata": {},
   "source": [
    "The name you specified has been assigned to this person, and if this face is detected in any future videos, it will be identified as the same person in this video. "
   ]
  }
 ],
 "metadata": {
  "kernelspec": {
   "display_name": "Python 3",
   "language": "python",
   "name": "python3"
  },
  "language_info": {
   "codemirror_mode": {
    "name": "ipython",
    "version": 3
   },
   "file_extension": ".py",
   "mimetype": "text/x-python",
   "name": "python",
   "nbconvert_exporter": "python",
   "pygments_lexer": "ipython3",
   "version": "3.5.4"
  }
 },
 "nbformat": 4,
 "nbformat_minor": 2
}
